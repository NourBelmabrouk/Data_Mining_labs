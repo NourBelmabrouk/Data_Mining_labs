{
  "nbformat": 4,
  "nbformat_minor": 0,
  "metadata": {
    "colab": {
      "name": "supervised_learning.ipynb",
      "provenance": [],
      "collapsed_sections": []
    },
    "kernelspec": {
      "name": "python3",
      "display_name": "Python 3"
    },
    "language_info": {
      "name": "python"
    }
  },
  "cells": [
    {
      "cell_type": "code",
      "execution_count": null,
      "metadata": {
        "id": "GTyOmvSvKSDA"
      },
      "outputs": [],
      "source": [
        "from sklearn import datasets\n",
        "import matplotlib\n",
        "import pylab as pl\n",
        "from itertools import cycle\n",
        "from sklearn import naive_bayes\n",
        "import numpy as np\n",
        "import random as rd\n",
        "from sklearn.model_selection import train_test_split \n",
        "from sklearn.model_selection import cross_val_score"
      ]
    },
    {
      "cell_type": "code",
      "source": [
        "irisData = datasets.load_iris()\n",
        "print (irisData.data)\n",
        "print (irisData.target)"
      ],
      "metadata": {
        "id": "1meChLfVKXYE",
        "colab": {
          "base_uri": "https://localhost:8080/"
        },
        "outputId": "2041541f-89c8-4fc5-c562-9bd42025f7ca"
      },
      "execution_count": null,
      "outputs": [
        {
          "output_type": "stream",
          "name": "stdout",
          "text": [
            "[[5.1 3.5 1.4 0.2]\n",
            " [4.9 3.  1.4 0.2]\n",
            " [4.7 3.2 1.3 0.2]\n",
            " [4.6 3.1 1.5 0.2]\n",
            " [5.  3.6 1.4 0.2]\n",
            " [5.4 3.9 1.7 0.4]\n",
            " [4.6 3.4 1.4 0.3]\n",
            " [5.  3.4 1.5 0.2]\n",
            " [4.4 2.9 1.4 0.2]\n",
            " [4.9 3.1 1.5 0.1]\n",
            " [5.4 3.7 1.5 0.2]\n",
            " [4.8 3.4 1.6 0.2]\n",
            " [4.8 3.  1.4 0.1]\n",
            " [4.3 3.  1.1 0.1]\n",
            " [5.8 4.  1.2 0.2]\n",
            " [5.7 4.4 1.5 0.4]\n",
            " [5.4 3.9 1.3 0.4]\n",
            " [5.1 3.5 1.4 0.3]\n",
            " [5.7 3.8 1.7 0.3]\n",
            " [5.1 3.8 1.5 0.3]\n",
            " [5.4 3.4 1.7 0.2]\n",
            " [5.1 3.7 1.5 0.4]\n",
            " [4.6 3.6 1.  0.2]\n",
            " [5.1 3.3 1.7 0.5]\n",
            " [4.8 3.4 1.9 0.2]\n",
            " [5.  3.  1.6 0.2]\n",
            " [5.  3.4 1.6 0.4]\n",
            " [5.2 3.5 1.5 0.2]\n",
            " [5.2 3.4 1.4 0.2]\n",
            " [4.7 3.2 1.6 0.2]\n",
            " [4.8 3.1 1.6 0.2]\n",
            " [5.4 3.4 1.5 0.4]\n",
            " [5.2 4.1 1.5 0.1]\n",
            " [5.5 4.2 1.4 0.2]\n",
            " [4.9 3.1 1.5 0.2]\n",
            " [5.  3.2 1.2 0.2]\n",
            " [5.5 3.5 1.3 0.2]\n",
            " [4.9 3.6 1.4 0.1]\n",
            " [4.4 3.  1.3 0.2]\n",
            " [5.1 3.4 1.5 0.2]\n",
            " [5.  3.5 1.3 0.3]\n",
            " [4.5 2.3 1.3 0.3]\n",
            " [4.4 3.2 1.3 0.2]\n",
            " [5.  3.5 1.6 0.6]\n",
            " [5.1 3.8 1.9 0.4]\n",
            " [4.8 3.  1.4 0.3]\n",
            " [5.1 3.8 1.6 0.2]\n",
            " [4.6 3.2 1.4 0.2]\n",
            " [5.3 3.7 1.5 0.2]\n",
            " [5.  3.3 1.4 0.2]\n",
            " [7.  3.2 4.7 1.4]\n",
            " [6.4 3.2 4.5 1.5]\n",
            " [6.9 3.1 4.9 1.5]\n",
            " [5.5 2.3 4.  1.3]\n",
            " [6.5 2.8 4.6 1.5]\n",
            " [5.7 2.8 4.5 1.3]\n",
            " [6.3 3.3 4.7 1.6]\n",
            " [4.9 2.4 3.3 1. ]\n",
            " [6.6 2.9 4.6 1.3]\n",
            " [5.2 2.7 3.9 1.4]\n",
            " [5.  2.  3.5 1. ]\n",
            " [5.9 3.  4.2 1.5]\n",
            " [6.  2.2 4.  1. ]\n",
            " [6.1 2.9 4.7 1.4]\n",
            " [5.6 2.9 3.6 1.3]\n",
            " [6.7 3.1 4.4 1.4]\n",
            " [5.6 3.  4.5 1.5]\n",
            " [5.8 2.7 4.1 1. ]\n",
            " [6.2 2.2 4.5 1.5]\n",
            " [5.6 2.5 3.9 1.1]\n",
            " [5.9 3.2 4.8 1.8]\n",
            " [6.1 2.8 4.  1.3]\n",
            " [6.3 2.5 4.9 1.5]\n",
            " [6.1 2.8 4.7 1.2]\n",
            " [6.4 2.9 4.3 1.3]\n",
            " [6.6 3.  4.4 1.4]\n",
            " [6.8 2.8 4.8 1.4]\n",
            " [6.7 3.  5.  1.7]\n",
            " [6.  2.9 4.5 1.5]\n",
            " [5.7 2.6 3.5 1. ]\n",
            " [5.5 2.4 3.8 1.1]\n",
            " [5.5 2.4 3.7 1. ]\n",
            " [5.8 2.7 3.9 1.2]\n",
            " [6.  2.7 5.1 1.6]\n",
            " [5.4 3.  4.5 1.5]\n",
            " [6.  3.4 4.5 1.6]\n",
            " [6.7 3.1 4.7 1.5]\n",
            " [6.3 2.3 4.4 1.3]\n",
            " [5.6 3.  4.1 1.3]\n",
            " [5.5 2.5 4.  1.3]\n",
            " [5.5 2.6 4.4 1.2]\n",
            " [6.1 3.  4.6 1.4]\n",
            " [5.8 2.6 4.  1.2]\n",
            " [5.  2.3 3.3 1. ]\n",
            " [5.6 2.7 4.2 1.3]\n",
            " [5.7 3.  4.2 1.2]\n",
            " [5.7 2.9 4.2 1.3]\n",
            " [6.2 2.9 4.3 1.3]\n",
            " [5.1 2.5 3.  1.1]\n",
            " [5.7 2.8 4.1 1.3]\n",
            " [6.3 3.3 6.  2.5]\n",
            " [5.8 2.7 5.1 1.9]\n",
            " [7.1 3.  5.9 2.1]\n",
            " [6.3 2.9 5.6 1.8]\n",
            " [6.5 3.  5.8 2.2]\n",
            " [7.6 3.  6.6 2.1]\n",
            " [4.9 2.5 4.5 1.7]\n",
            " [7.3 2.9 6.3 1.8]\n",
            " [6.7 2.5 5.8 1.8]\n",
            " [7.2 3.6 6.1 2.5]\n",
            " [6.5 3.2 5.1 2. ]\n",
            " [6.4 2.7 5.3 1.9]\n",
            " [6.8 3.  5.5 2.1]\n",
            " [5.7 2.5 5.  2. ]\n",
            " [5.8 2.8 5.1 2.4]\n",
            " [6.4 3.2 5.3 2.3]\n",
            " [6.5 3.  5.5 1.8]\n",
            " [7.7 3.8 6.7 2.2]\n",
            " [7.7 2.6 6.9 2.3]\n",
            " [6.  2.2 5.  1.5]\n",
            " [6.9 3.2 5.7 2.3]\n",
            " [5.6 2.8 4.9 2. ]\n",
            " [7.7 2.8 6.7 2. ]\n",
            " [6.3 2.7 4.9 1.8]\n",
            " [6.7 3.3 5.7 2.1]\n",
            " [7.2 3.2 6.  1.8]\n",
            " [6.2 2.8 4.8 1.8]\n",
            " [6.1 3.  4.9 1.8]\n",
            " [6.4 2.8 5.6 2.1]\n",
            " [7.2 3.  5.8 1.6]\n",
            " [7.4 2.8 6.1 1.9]\n",
            " [7.9 3.8 6.4 2. ]\n",
            " [6.4 2.8 5.6 2.2]\n",
            " [6.3 2.8 5.1 1.5]\n",
            " [6.1 2.6 5.6 1.4]\n",
            " [7.7 3.  6.1 2.3]\n",
            " [6.3 3.4 5.6 2.4]\n",
            " [6.4 3.1 5.5 1.8]\n",
            " [6.  3.  4.8 1.8]\n",
            " [6.9 3.1 5.4 2.1]\n",
            " [6.7 3.1 5.6 2.4]\n",
            " [6.9 3.1 5.1 2.3]\n",
            " [5.8 2.7 5.1 1.9]\n",
            " [6.8 3.2 5.9 2.3]\n",
            " [6.7 3.3 5.7 2.5]\n",
            " [6.7 3.  5.2 2.3]\n",
            " [6.3 2.5 5.  1.9]\n",
            " [6.5 3.  5.2 2. ]\n",
            " [6.2 3.4 5.4 2.3]\n",
            " [5.9 3.  5.1 1.8]]\n",
            "[0 0 0 0 0 0 0 0 0 0 0 0 0 0 0 0 0 0 0 0 0 0 0 0 0 0 0 0 0 0 0 0 0 0 0 0 0\n",
            " 0 0 0 0 0 0 0 0 0 0 0 0 0 1 1 1 1 1 1 1 1 1 1 1 1 1 1 1 1 1 1 1 1 1 1 1 1\n",
            " 1 1 1 1 1 1 1 1 1 1 1 1 1 1 1 1 1 1 1 1 1 1 1 1 1 1 2 2 2 2 2 2 2 2 2 2 2\n",
            " 2 2 2 2 2 2 2 2 2 2 2 2 2 2 2 2 2 2 2 2 2 2 2 2 2 2 2 2 2 2 2 2 2 2 2 2 2\n",
            " 2 2]\n"
          ]
        }
      ]
    },
    {
      "cell_type": "code",
      "source": [
        "def plot_2D(data, target, target_names):\n",
        " colors = cycle('rgbcmykw') # cycle de couleurs\n",
        " target_ids = range(len(target_names))\n",
        " pl.figure()\n",
        " for i, c, label in zip(target_ids, colors, target_names):\n",
        "  pl.scatter(data[target == i, 2], data[target == i, 3], c=c, label=label)\n",
        " pl.plot([2.5,2.5],[0,2.5])\n",
        " pl.legend()\n",
        " pl.show()\n",
        "\n",
        "plot_2D(irisData.data, irisData.target, irisData.target_names)"
      ],
      "metadata": {
        "id": "ox7r70wpKgB_",
        "colab": {
          "base_uri": "https://localhost:8080/",
          "height": 264
        },
        "outputId": "20d57bf1-0781-441a-822d-17ca640330d0"
      },
      "execution_count": null,
      "outputs": [
        {
          "output_type": "display_data",
          "data": {
            "text/plain": [
              "<Figure size 432x288 with 1 Axes>"
            ],
            "image/png": "[encoded data removed]"
          },
          "metadata": {
            "needs_background": "light"
          }
        }
      ]
    },
    {
      "cell_type": "code",
      "source": [
        "nb = naive_bayes.MultinomialNB(fit_prior=True)# un algo d'apprentissage\n",
        "nb.fit(irisData.data[:], irisData.target[:])\n",
        "p = nb.predict(irisData.data[:])\n",
        "print(p)\n"
      ],
      "metadata": {
        "colab": {
          "base_uri": "https://localhost:8080/"
        },
        "id": "sCvxf6PILPA2",
        "outputId": "ea7a462a-e4a2-497a-883b-d709e1a5b915"
      },
      "execution_count": null,
      "outputs": [
        {
          "output_type": "stream",
          "name": "stdout",
          "text": [
            "[0 0 0 0 0 0 0 0 0 0 0 0 0 0 0 0 0 0 0 0 0 0 0 0 0 0 0 0 0 0 0 0 0 0 0 0 0\n",
            " 0 0 0 0 0 0 0 0 0 0 0 0 0 1 1 1 1 1 1 1 1 1 1 1 1 1 1 1 1 1 1 2 1 2 1 2 1\n",
            " 1 1 1 1 1 1 1 1 1 2 1 1 1 1 1 1 1 1 1 1 1 1 1 1 1 1 2 2 2 2 2 2 2 2 2 2 2\n",
            " 2 2 2 2 2 2 2 2 2 2 2 2 2 2 2 2 2 2 1 2 1 2 1 2 2 2 2 2 2 2 2 2 2 2 2 2 2\n",
            " 2 2]\n"
          ]
        }
      ]
    },
    {
      "cell_type": "code",
      "source": [
        "ea = 0\n",
        "for i in range(len(irisData.data)):\n",
        "  if (p[i] != irisData.target[i]):\n",
        "    ea = ea+1\n",
        "print(ea/len(irisData.data))"
      ],
      "metadata": {
        "colab": {
          "base_uri": "https://localhost:8080/"
        },
        "id": "QH8y2SesZ-AQ",
        "outputId": "c2d89b58-7aa7-4a9e-8a78-65c32dbdad60"
      },
      "execution_count": null,
      "outputs": [
        {
          "output_type": "stream",
          "name": "stdout",
          "text": [
            "0.04666666666666667\n"
          ]
        }
      ]
    },
    {
      "cell_type": "code",
      "source": [
        "print(np.count_nonzero(p-irisData.target)/len(irisData.target))"
      ],
      "metadata": {
        "colab": {
          "base_uri": "https://localhost:8080/"
        },
        "id": "esFpmt4ebNkm",
        "outputId": "1f439f62-6428-4238-dc28-2f567562b1d6"
      },
      "execution_count": null,
      "outputs": [
        {
          "output_type": "stream",
          "name": "stdout",
          "text": [
            "0.04666666666666667\n"
          ]
        }
      ]
    },
    {
      "cell_type": "code",
      "source": [
        "nb.score(irisData.data,irisData.target)"
      ],
      "metadata": {
        "colab": {
          "base_uri": "https://localhost:8080/"
        },
        "id": "3ZNVDFVscitc",
        "outputId": "07f3ad59-9319-4ded-bdf2-e428b2c0589e"
      },
      "execution_count": null,
      "outputs": [
        {
          "output_type": "execute_result",
          "data": {
            "text/plain": [
              "0.9533333333333334"
            ]
          },
          "metadata": {},
          "execution_count": 7
        }
      ]
    },
    {
      "cell_type": "code",
      "source": [
        "\n",
        "def split(S):\n",
        "    dataS1 = np.empty(shape=(100,4))\n",
        "    targetS1= np.empty(shape=(100))\n",
        "    dataS2 = S.data\n",
        "    targetS2 = S.target\n",
        "    # La taille: 2/3 S\n",
        "    size= int(2*len(S.data)/3)\n",
        "    for i in range(0,size):\n",
        "        j = rd.randint(0,len(dataS2)-1)\n",
        "        dataS1[i] = dataS2[j]\n",
        "        targetS1[i] = targetS2[j]\n",
        "        dataS2 = np.delete(dataS2 , j,0)\n",
        "        targetS2 = np.delete(targetS2,j,0)\n",
        "    return [dataS1 , targetS1 , dataS2 , targetS2]\n",
        "\n",
        "split(irisData)"
      ],
      "metadata": {
        "id": "RdJP6fpeSrqG",
        "colab": {
          "base_uri": "https://localhost:8080/"
        },
        "outputId": "900814da-37f6-4da7-dea2-f32328d0fc15"
      },
      "execution_count": null,
      "outputs": [
        {
          "output_type": "execute_result",
          "data": {
            "text/plain": [
              "[array([[5.1, 2.5, 3. , 1.1],\n",
              "        [6.1, 2.8, 4. , 1.3],\n",
              "        [5.2, 3.5, 1.5, 0.2],\n",
              "        [5.8, 2.7, 4.1, 1. ],\n",
              "        [7.7, 2.8, 6.7, 2. ],\n",
              "        [6.5, 3. , 5.5, 1.8],\n",
              "        [5.9, 3.2, 4.8, 1.8],\n",
              "        [4.3, 3. , 1.1, 0.1],\n",
              "        [7.1, 3. , 5.9, 2.1],\n",
              "        [6.7, 3. , 5. , 1.7],\n",
              "        [6.1, 2.6, 5.6, 1.4],\n",
              "        [7.7, 2.6, 6.9, 2.3],\n",
              "        [5.6, 2.8, 4.9, 2. ],\n",
              "        [5.6, 3. , 4.5, 1.5],\n",
              "        [5.8, 2.7, 3.9, 1.2],\n",
              "        [4.4, 3.2, 1.3, 0.2],\n",
              "        [6. , 2.2, 5. , 1.5],\n",
              "        [5.4, 3.4, 1.5, 0.4],\n",
              "        [5. , 3.4, 1.5, 0.2],\n",
              "        [7. , 3.2, 4.7, 1.4],\n",
              "        [6.7, 3.3, 5.7, 2.5],\n",
              "        [5.6, 2.5, 3.9, 1.1],\n",
              "        [5. , 3. , 1.6, 0.2],\n",
              "        [6.7, 3.1, 4.4, 1.4],\n",
              "        [5.7, 2.8, 4.1, 1.3],\n",
              "        [6.3, 2.5, 4.9, 1.5],\n",
              "        [6.4, 2.7, 5.3, 1.9],\n",
              "        [6.8, 2.8, 4.8, 1.4],\n",
              "        [6.9, 3.1, 4.9, 1.5],\n",
              "        [5.5, 2.4, 3.7, 1. ],\n",
              "        [5.4, 3.7, 1.5, 0.2],\n",
              "        [4.9, 3.6, 1.4, 0.1],\n",
              "        [4.9, 2.4, 3.3, 1. ],\n",
              "        [4.8, 3. , 1.4, 0.1],\n",
              "        [6. , 2.7, 5.1, 1.6],\n",
              "        [5. , 3.5, 1.6, 0.6],\n",
              "        [6.3, 3.3, 4.7, 1.6],\n",
              "        [5.6, 3. , 4.1, 1.3],\n",
              "        [6.3, 2.5, 5. , 1.9],\n",
              "        [6.2, 2.9, 4.3, 1.3],\n",
              "        [5.8, 2.7, 5.1, 1.9],\n",
              "        [5. , 3.4, 1.6, 0.4],\n",
              "        [5.2, 3.4, 1.4, 0.2],\n",
              "        [6.4, 3.1, 5.5, 1.8],\n",
              "        [5.8, 2.6, 4. , 1.2],\n",
              "        [5.1, 3.8, 1.6, 0.2],\n",
              "        [5.7, 3.8, 1.7, 0.3],\n",
              "        [6.8, 3.2, 5.9, 2.3],\n",
              "        [5.8, 4. , 1.2, 0.2],\n",
              "        [5.1, 3.5, 1.4, 0.3],\n",
              "        [5.7, 2.5, 5. , 2. ],\n",
              "        [6.6, 2.9, 4.6, 1.3],\n",
              "        [4.8, 3.1, 1.6, 0.2],\n",
              "        [5.2, 2.7, 3.9, 1.4],\n",
              "        [5.5, 4.2, 1.4, 0.2],\n",
              "        [6.4, 2.9, 4.3, 1.3],\n",
              "        [4.6, 3.6, 1. , 0.2],\n",
              "        [4.6, 3.4, 1.4, 0.3],\n",
              "        [6.1, 3. , 4.9, 1.8],\n",
              "        [5.9, 3. , 5.1, 1.8],\n",
              "        [7.6, 3. , 6.6, 2.1],\n",
              "        [6.4, 2.8, 5.6, 2.2],\n",
              "        [6.2, 2.8, 4.8, 1.8],\n",
              "        [4.6, 3.2, 1.4, 0.2],\n",
              "        [5.3, 3.7, 1.5, 0.2],\n",
              "        [5.7, 3. , 4.2, 1.2],\n",
              "        [7.4, 2.8, 6.1, 1.9],\n",
              "        [6. , 2.2, 4. , 1. ],\n",
              "        [5. , 3.5, 1.3, 0.3],\n",
              "        [5.5, 3.5, 1.3, 0.2],\n",
              "        [7.2, 3. , 5.8, 1.6],\n",
              "        [5.1, 3.5, 1.4, 0.2],\n",
              "        [5.5, 2.3, 4. , 1.3],\n",
              "        [4.7, 3.2, 1.3, 0.2],\n",
              "        [7.3, 2.9, 6.3, 1.8],\n",
              "        [6.9, 3.2, 5.7, 2.3],\n",
              "        [6. , 2.9, 4.5, 1.5],\n",
              "        [6.9, 3.1, 5.4, 2.1],\n",
              "        [4.8, 3.4, 1.9, 0.2],\n",
              "        [6.1, 3. , 4.6, 1.4],\n",
              "        [4.4, 2.9, 1.4, 0.2],\n",
              "        [4.8, 3.4, 1.6, 0.2],\n",
              "        [6.1, 2.8, 4.7, 1.2],\n",
              "        [4.9, 3. , 1.4, 0.2],\n",
              "        [6.2, 3.4, 5.4, 2.3],\n",
              "        [6.7, 3.1, 4.7, 1.5],\n",
              "        [6.6, 3. , 4.4, 1.4],\n",
              "        [6.3, 2.9, 5.6, 1.8],\n",
              "        [5.5, 2.4, 3.8, 1.1],\n",
              "        [7.7, 3. , 6.1, 2.3],\n",
              "        [6. , 3. , 4.8, 1.8],\n",
              "        [5.1, 3.4, 1.5, 0.2],\n",
              "        [6.2, 2.2, 4.5, 1.5],\n",
              "        [6.4, 3.2, 5.3, 2.3],\n",
              "        [4.5, 2.3, 1.3, 0.3],\n",
              "        [5. , 3.2, 1.2, 0.2],\n",
              "        [4.4, 3. , 1.3, 0.2],\n",
              "        [5.5, 2.6, 4.4, 1.2],\n",
              "        [4.9, 3.1, 1.5, 0.1],\n",
              "        [5.7, 2.6, 3.5, 1. ]]),\n",
              " array([1., 1., 0., 1., 2., 2., 1., 0., 2., 1., 2., 2., 2., 1., 1., 0., 2.,\n",
              "        0., 0., 1., 2., 1., 0., 1., 1., 1., 2., 1., 1., 1., 0., 0., 1., 0.,\n",
              "        1., 0., 1., 1., 2., 1., 2., 0., 0., 2., 1., 0., 0., 2., 0., 0., 2.,\n",
              "        1., 0., 1., 0., 1., 0., 0., 2., 2., 2., 2., 2., 0., 0., 1., 2., 1.,\n",
              "        0., 0., 2., 0., 1., 0., 2., 2., 1., 2., 0., 1., 0., 0., 1., 0., 2.,\n",
              "        1., 1., 2., 1., 2., 2., 0., 1., 2., 0., 0., 0., 1., 0., 1.]),\n",
              " array([[4.6, 3.1, 1.5, 0.2],\n",
              "        [5. , 3.6, 1.4, 0.2],\n",
              "        [5.4, 3.9, 1.7, 0.4],\n",
              "        [5.7, 4.4, 1.5, 0.4],\n",
              "        [5.4, 3.9, 1.3, 0.4],\n",
              "        [5.1, 3.8, 1.5, 0.3],\n",
              "        [5.4, 3.4, 1.7, 0.2],\n",
              "        [5.1, 3.7, 1.5, 0.4],\n",
              "        [5.1, 3.3, 1.7, 0.5],\n",
              "        [4.7, 3.2, 1.6, 0.2],\n",
              "        [5.2, 4.1, 1.5, 0.1],\n",
              "        [4.9, 3.1, 1.5, 0.2],\n",
              "        [5.1, 3.8, 1.9, 0.4],\n",
              "        [4.8, 3. , 1.4, 0.3],\n",
              "        [5. , 3.3, 1.4, 0.2],\n",
              "        [6.4, 3.2, 4.5, 1.5],\n",
              "        [6.5, 2.8, 4.6, 1.5],\n",
              "        [5.7, 2.8, 4.5, 1.3],\n",
              "        [5. , 2. , 3.5, 1. ],\n",
              "        [5.9, 3. , 4.2, 1.5],\n",
              "        [6.1, 2.9, 4.7, 1.4],\n",
              "        [5.6, 2.9, 3.6, 1.3],\n",
              "        [5.4, 3. , 4.5, 1.5],\n",
              "        [6. , 3.4, 4.5, 1.6],\n",
              "        [6.3, 2.3, 4.4, 1.3],\n",
              "        [5.5, 2.5, 4. , 1.3],\n",
              "        [5. , 2.3, 3.3, 1. ],\n",
              "        [5.6, 2.7, 4.2, 1.3],\n",
              "        [5.7, 2.9, 4.2, 1.3],\n",
              "        [6.3, 3.3, 6. , 2.5],\n",
              "        [6.5, 3. , 5.8, 2.2],\n",
              "        [4.9, 2.5, 4.5, 1.7],\n",
              "        [6.7, 2.5, 5.8, 1.8],\n",
              "        [7.2, 3.6, 6.1, 2.5],\n",
              "        [6.5, 3.2, 5.1, 2. ],\n",
              "        [6.8, 3. , 5.5, 2.1],\n",
              "        [5.8, 2.8, 5.1, 2.4],\n",
              "        [7.7, 3.8, 6.7, 2.2],\n",
              "        [6.3, 2.7, 4.9, 1.8],\n",
              "        [6.7, 3.3, 5.7, 2.1],\n",
              "        [7.2, 3.2, 6. , 1.8],\n",
              "        [6.4, 2.8, 5.6, 2.1],\n",
              "        [7.9, 3.8, 6.4, 2. ],\n",
              "        [6.3, 2.8, 5.1, 1.5],\n",
              "        [6.3, 3.4, 5.6, 2.4],\n",
              "        [6.7, 3.1, 5.6, 2.4],\n",
              "        [6.9, 3.1, 5.1, 2.3],\n",
              "        [5.8, 2.7, 5.1, 1.9],\n",
              "        [6.7, 3. , 5.2, 2.3],\n",
              "        [6.5, 3. , 5.2, 2. ]]),\n",
              " array([0, 0, 0, 0, 0, 0, 0, 0, 0, 0, 0, 0, 0, 0, 0, 1, 1, 1, 1, 1, 1, 1,\n",
              "        1, 1, 1, 1, 1, 1, 1, 2, 2, 2, 2, 2, 2, 2, 2, 2, 2, 2, 2, 2, 2, 2,\n",
              "        2, 2, 2, 2, 2, 2])]"
            ]
          },
          "metadata": {},
          "execution_count": 8
        }
      ]
    },
    {
      "cell_type": "code",
      "source": [
        "def test(S , clf):\n",
        "    # S :  [dataS1 , targetS1 , dataS2 , targetS2]\n",
        "    clf.fit(S[0],S[1])\n",
        "    clf.predict(S[2])\n",
        "    clf.score(S[2],S[3])\n",
        "    return 1 - clf.score(S[2],S[3])\n",
        "clf = naive_bayes.MultinomialNB(fit_prior=True)\n",
        "Ss = split(irisData)\n",
        "error  = test(Ss , clf)\n",
        "print(error)"
      ],
      "metadata": {
        "colab": {
          "base_uri": "https://localhost:8080/"
        },
        "id": "b7eEaT_wTyAs",
        "outputId": "5518a3b2-36db-46bc-f6b6-18f9b92b1165"
      },
      "execution_count": null,
      "outputs": [
        {
          "output_type": "stream",
          "name": "stdout",
          "text": [
            "0.020000000000000018\n"
          ]
        }
      ]
    },
    {
      "cell_type": "code",
      "source": [
        "def test_with_iterations(S , clf ,t):\n",
        "    moy_err = 0 \n",
        "    for i in range(t):\n",
        "        e = test(S , clf)\n",
        "        moy_err = moy_err+e\n",
        "    return moy_err/t\n",
        "for i in range(20):\n",
        "    print(\"erreur avec t= 10\",test_with_iterations(Ss , clf ,t=10))\n",
        "    print(\"erreur avec t= 50\",test_with_iterations(Ss , clf,t=50))\n",
        "    print(\"erreur avec t= 100\",test_with_iterations(Ss , clf ,t=100))\n",
        "    print(\"erreur avec t= 200\",test_with_iterations(Ss, clf,t=200))\n",
        "    print(\"erreur avec t= 500\",test_with_iterations(Ss , clf,t=500))\n",
        "    print(\"erreur avec t= 1000\",test_with_iterations(Ss , clf ,t=1000))\n",
        "    print(\"\"\"---------------\"\"\")"
      ],
      "metadata": {
        "id": "xI5mmoqKWDQO",
        "colab": {
          "base_uri": "https://localhost:8080/"
        },
        "outputId": "edf1ede3-211b-4596-b9cb-056a9b76a0a3"
      },
      "execution_count": null,
      "outputs": [
        {
          "output_type": "stream",
          "name": "stdout",
          "text": [
            "erreur avec t= 10 0.020000000000000018\n",
            "erreur avec t= 50 0.020000000000000018\n",
            "erreur avec t= 100 0.020000000000000018\n",
            "erreur avec t= 200 0.020000000000000018\n",
            "erreur avec t= 500 0.01999999999999975\n",
            "erreur avec t= 1000 0.019999999999999664\n",
            "---------------\n",
            "erreur avec t= 10 0.020000000000000018\n",
            "erreur avec t= 50 0.020000000000000018\n",
            "erreur avec t= 100 0.020000000000000018\n",
            "erreur avec t= 200 0.020000000000000018\n",
            "erreur avec t= 500 0.01999999999999975\n",
            "erreur avec t= 1000 0.019999999999999664\n",
            "---------------\n",
            "erreur avec t= 10 0.020000000000000018\n",
            "erreur avec t= 50 0.020000000000000018\n",
            "erreur avec t= 100 0.020000000000000018\n",
            "erreur avec t= 200 0.020000000000000018\n",
            "erreur avec t= 500 0.01999999999999975\n",
            "erreur avec t= 1000 0.019999999999999664\n",
            "---------------\n",
            "erreur avec t= 10 0.020000000000000018\n",
            "erreur avec t= 50 0.020000000000000018\n",
            "erreur avec t= 100 0.020000000000000018\n",
            "erreur avec t= 200 0.020000000000000018\n",
            "erreur avec t= 500 0.01999999999999975\n",
            "erreur avec t= 1000 0.019999999999999664\n",
            "---------------\n",
            "erreur avec t= 10 0.020000000000000018\n",
            "erreur avec t= 50 0.020000000000000018\n",
            "erreur avec t= 100 0.020000000000000018\n",
            "erreur avec t= 200 0.020000000000000018\n",
            "erreur avec t= 500 0.01999999999999975\n",
            "erreur avec t= 1000 0.019999999999999664\n",
            "---------------\n",
            "erreur avec t= 10 0.020000000000000018\n",
            "erreur avec t= 50 0.020000000000000018\n",
            "erreur avec t= 100 0.020000000000000018\n",
            "erreur avec t= 200 0.020000000000000018\n",
            "erreur avec t= 500 0.01999999999999975\n",
            "erreur avec t= 1000 0.019999999999999664\n",
            "---------------\n",
            "erreur avec t= 10 0.020000000000000018\n",
            "erreur avec t= 50 0.020000000000000018\n",
            "erreur avec t= 100 0.020000000000000018\n",
            "erreur avec t= 200 0.020000000000000018\n",
            "erreur avec t= 500 0.01999999999999975\n",
            "erreur avec t= 1000 0.019999999999999664\n",
            "---------------\n",
            "erreur avec t= 10 0.020000000000000018\n",
            "erreur avec t= 50 0.020000000000000018\n",
            "erreur avec t= 100 0.020000000000000018\n",
            "erreur avec t= 200 0.020000000000000018\n",
            "erreur avec t= 500 0.01999999999999975\n",
            "erreur avec t= 1000 0.019999999999999664\n",
            "---------------\n",
            "erreur avec t= 10 0.020000000000000018\n",
            "erreur avec t= 50 0.020000000000000018\n",
            "erreur avec t= 100 0.020000000000000018\n",
            "erreur avec t= 200 0.020000000000000018\n",
            "erreur avec t= 500 0.01999999999999975\n",
            "erreur avec t= 1000 0.019999999999999664\n",
            "---------------\n",
            "erreur avec t= 10 0.020000000000000018\n",
            "erreur avec t= 50 0.020000000000000018\n",
            "erreur avec t= 100 0.020000000000000018\n",
            "erreur avec t= 200 0.020000000000000018\n",
            "erreur avec t= 500 0.01999999999999975\n",
            "erreur avec t= 1000 0.019999999999999664\n",
            "---------------\n",
            "erreur avec t= 10 0.020000000000000018\n",
            "erreur avec t= 50 0.020000000000000018\n",
            "erreur avec t= 100 0.020000000000000018\n",
            "erreur avec t= 200 0.020000000000000018\n",
            "erreur avec t= 500 0.01999999999999975\n",
            "erreur avec t= 1000 0.019999999999999664\n",
            "---------------\n",
            "erreur avec t= 10 0.020000000000000018\n",
            "erreur avec t= 50 0.020000000000000018\n",
            "erreur avec t= 100 0.020000000000000018\n",
            "erreur avec t= 200 0.020000000000000018\n",
            "erreur avec t= 500 0.01999999999999975\n",
            "erreur avec t= 1000 0.019999999999999664\n",
            "---------------\n",
            "erreur avec t= 10 0.020000000000000018\n",
            "erreur avec t= 50 0.020000000000000018\n",
            "erreur avec t= 100 0.020000000000000018\n",
            "erreur avec t= 200 0.020000000000000018\n",
            "erreur avec t= 500 0.01999999999999975\n",
            "erreur avec t= 1000 0.019999999999999664\n",
            "---------------\n",
            "erreur avec t= 10 0.020000000000000018\n",
            "erreur avec t= 50 0.020000000000000018\n",
            "erreur avec t= 100 0.020000000000000018\n",
            "erreur avec t= 200 0.020000000000000018\n",
            "erreur avec t= 500 0.01999999999999975\n",
            "erreur avec t= 1000 0.019999999999999664\n",
            "---------------\n",
            "erreur avec t= 10 0.020000000000000018\n",
            "erreur avec t= 50 0.020000000000000018\n",
            "erreur avec t= 100 0.020000000000000018\n",
            "erreur avec t= 200 0.020000000000000018\n",
            "erreur avec t= 500 0.01999999999999975\n",
            "erreur avec t= 1000 0.019999999999999664\n",
            "---------------\n",
            "erreur avec t= 10 0.020000000000000018\n",
            "erreur avec t= 50 0.020000000000000018\n",
            "erreur avec t= 100 0.020000000000000018\n",
            "erreur avec t= 200 0.020000000000000018\n",
            "erreur avec t= 500 0.01999999999999975\n",
            "erreur avec t= 1000 0.019999999999999664\n",
            "---------------\n",
            "erreur avec t= 10 0.020000000000000018\n",
            "erreur avec t= 50 0.020000000000000018\n",
            "erreur avec t= 100 0.020000000000000018\n",
            "erreur avec t= 200 0.020000000000000018\n",
            "erreur avec t= 500 0.01999999999999975\n",
            "erreur avec t= 1000 0.019999999999999664\n",
            "---------------\n",
            "erreur avec t= 10 0.020000000000000018\n",
            "erreur avec t= 50 0.020000000000000018\n",
            "erreur avec t= 100 0.020000000000000018\n",
            "erreur avec t= 200 0.020000000000000018\n",
            "erreur avec t= 500 0.01999999999999975\n",
            "erreur avec t= 1000 0.019999999999999664\n",
            "---------------\n",
            "erreur avec t= 10 0.020000000000000018\n",
            "erreur avec t= 50 0.020000000000000018\n",
            "erreur avec t= 100 0.020000000000000018\n",
            "erreur avec t= 200 0.020000000000000018\n"
          ]
        }
      ]
    },
    {
      "cell_type": "code",
      "source": [
        "sizes = [0.1,0.2,0.25,0.33,0.5]\n",
        "for i in sizes:\n",
        "    D_train , D_test ,C_train, C_test = train_test_split(irisData.data, irisData.target, train_size=i)\n",
        "    clf.fit(D_train , C_train)\n",
        "    prediction = clf.predict(D_test)\n",
        "    print('pour le test size :' + str(i))\n",
        "    print('Lerreur est: '+ str(1- clf.score(np.array(D_test), np.array(C_test))))"
      ],
      "metadata": {
        "id": "kceeiT-0W6PJ"
      },
      "execution_count": null,
      "outputs": []
    },
    {
      "cell_type": "code",
      "source": [
        "print('using cross validation')\n",
        "folds = [2,3,5,8]\n",
        "for i in folds:\n",
        "    print(f\"pour {i} folds\")\n",
        "    print(cross_val_score(clf,irisData.data,irisData.target,cv=i))"
      ],
      "metadata": {
        "id": "MilXvfbrYjIA"
      },
      "execution_count": null,
      "outputs": []
    }
  ]
}