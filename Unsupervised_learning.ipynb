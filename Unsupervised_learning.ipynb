{
  "nbformat": 4,
  "nbformat_minor": 0,
  "metadata": {
    "colab": {
      "name": "Unsupervised_learning.ipynb",
      "provenance": [],
      "collapsed_sections": []
    },
    "kernelspec": {
      "name": "python3",
      "display_name": "Python 3"
    },
    "language_info": {
      "name": "python"
    }
  },
  "cells": [
    {
      "cell_type": "code",
      "execution_count": 6,
      "metadata": {
        "id": "fmwaEy85Q4tc"
      },
      "outputs": [],
      "source": [
        "import pandas as pd\n",
        "import numpy as np\n",
        "from sklearn import cluster\n",
        "from sklearn import metrics\n",
        "import matplotlib.pyplot as plt\n",
        "from matplotlib import pyplot as plt\n",
        "from scipy.cluster.hierarchy import dendrogram, linkage, fcluster\n",
        "from sklearn.decomposition import PCA\n",
        "from sklearn.cluster import AgglomerativeClustering"
      ]
    },
    {
      "cell_type": "code",
      "source": [
        "fromage=pd.read_table(r\"fromage.txt\",sep=\"\\t\",header=0,index_col=0)\n",
        "print(fromage.describe())\n",
        "pd.scatter_matrix(fromage, figsize=(9,9))"
      ],
      "metadata": {
        "id": "f8ryTkksRTxu"
      },
      "execution_count": null,
      "outputs": []
    },
    {
      "cell_type": "code",
      "source": [
        "np.random.seed(0)\n",
        "kmeans = cluster.KMeans(n_clusters = 4)\n",
        "kmeans.fit(fromage)\n",
        "idk = np.argsort(kmeans.labels_)\n",
        "print(pd.DataFrame(fromage.index[idk],kmeans.labels_[idk]))\n",
        "print(kmeans.transform(fromage))"
      ],
      "metadata": {
        "id": "oIC4-gePR1Ar"
      },
      "execution_count": null,
      "outputs": []
    },
    {
      "cell_type": "code",
      "source": [
        "\n",
        "res = np.arange(9, dtype =\"double\")\n",
        "for k in np.arange(9):\n",
        " km = cluster.KMeans(n_clusters = k+2)\n",
        " km.fit(fromage)\n",
        " res[k] = metrics.silhouette_score(fromage,km.labels_)\n",
        "print (res)\n",
        "#graphic\n",
        "plt.title(\"silhouette\")\n",
        "plt.xlabel(\"# of clusters\")\n",
        "plt.plot(np.arange(2,11,1),(res))\n",
        "plt.show()"
      ],
      "metadata": {
        "id": "3XP-gkXzR8rp"
      },
      "execution_count": null,
      "outputs": []
    },
    {
      "cell_type": "code",
      "source": [
        "#CAH\n",
        "Z = linkage(fromage,method='ward', metric='euclidean')\n",
        "#display dendrogram\n",
        "plt.title(\"CAH\")\n",
        "plt.title('CAH with 4 classes')\n",
        "dendrogram(Z,labels=fromage.index,orientation='left',color_threshold=255)\n",
        "plt.show()\n",
        "groupes_cah = fcluster(Z, t = 255,criterion='distance')\n",
        "print(groupes_cah)\n",
        "#index sorted\n",
        "idg = np.argsort(groupes_cah)\n",
        "#display\n",
        "print(pd.DataFrame(fromage.index[idg],groupes_cah[idg]))"
      ],
      "metadata": {
        "id": "GXKnxsAvSThI"
      },
      "execution_count": null,
      "outputs": []
    },
    {
      "cell_type": "code",
      "source": [
        "#Agglomerative Clustering Method\n",
        "np.random.seed(0)\n",
        "kmeans = cluster.KMeans(n_clusters=4)\n",
        "kmeans.fit(fromage)\n",
        "ag = AgglomerativeClustering(n_clusters=4)\n",
        "ag.fit(fromage)\n",
        "idk = np.argsort(ag.labels_)\n",
        "print(pd.DataFrame(fromage.index[idk], ag.labels_[idk]))"
      ],
      "metadata": {
        "id": "Dsm0bI06T27u"
      },
      "execution_count": null,
      "outputs": []
    },
    {
      "cell_type": "code",
      "source": [
        "#ACP\n",
        "acp = PCA(n_components =2).fit_transform(fromage)\n",
        "for couleur,k in zip(['red','blue','lawngreen', 'aqua'],[0,1,2,3]):\n",
        " plt.scatter(acp[km.labels_==k,0],acp[km.labels_==k,1],c=couleur)\n",
        "plt.show()"
      ],
      "metadata": {
        "id": "2bj0m3BtSz1F"
      },
      "execution_count": null,
      "outputs": []
    }
  ]
}